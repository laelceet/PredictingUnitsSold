{
 "cells": [
  {
   "cell_type": "code",
   "execution_count": 24,
   "id": "82510257",
   "metadata": {},
   "outputs": [],
   "source": [
    "import pandas as pd\n",
    "import matplotlib.pyplot as plt\n",
    "import seaborn"
   ]
  },
  {
   "cell_type": "code",
   "execution_count": 25,
   "id": "5333f086",
   "metadata": {},
   "outputs": [],
   "source": [
    "r = pd.read_csv(\"round2.csv\")"
   ]
  },
  {
   "cell_type": "code",
   "execution_count": 26,
   "id": "4f70c012",
   "metadata": {},
   "outputs": [
    {
     "name": "stdout",
     "output_type": "stream",
     "text": [
      "      rounded  original   not_rounded\n",
      "0         100       100    404.582401\n",
      "1       20000     20000  27728.907329\n",
      "2         100       100    223.278123\n",
      "3        1000      5000   2642.900114\n",
      "4        1000       100    771.269840\n",
      "...       ...       ...           ...\n",
      "1527     5000     10000   5492.420110\n",
      "1528     1000       100    934.726022\n",
      "1529      100       100    411.369694\n",
      "1530      100       100    192.822166\n",
      "1531     1000       100    638.090445\n",
      "\n",
      "[1532 rows x 3 columns]\n"
     ]
    }
   ],
   "source": [
    "print(r)"
   ]
  },
  {
   "cell_type": "code",
   "execution_count": 27,
   "id": "03acd0d8",
   "metadata": {},
   "outputs": [
    {
     "name": "stdout",
     "output_type": "stream",
     "text": [
      "Concordance Index: 0.88775121136643\n"
     ]
    }
   ],
   "source": [
    "import numpy as np\n",
    "\n",
    "def concordance_index(true_values, predicted_scores):\n",
    "    n = len(true_values)\n",
    "    assert n == len(predicted_scores), \"Lists must have the same length.\"\n",
    "\n",
    "    concordant = 0\n",
    "    discordant = 0\n",
    "    ties = 0\n",
    "\n",
    "    for i in range(n):\n",
    "        for j in range(i + 1, n):\n",
    "            if true_values[i] != true_values[j]:\n",
    "                if (predicted_scores[i] < predicted_scores[j] and\n",
    "                        true_values[i] < true_values[j]):\n",
    "                    concordant += 1\n",
    "                elif (predicted_scores[i] > predicted_scores[j] and\n",
    "                      true_values[i] > true_values[j]):\n",
    "                    concordant += 1\n",
    "                elif predicted_scores[i] == predicted_scores[j]:\n",
    "                    ties += 1\n",
    "                else:\n",
    "                    discordant += 1\n",
    "\n",
    "    c_index = (concordant + 0.5 * ties) / (concordant + discordant + ties)\n",
    "\n",
    "    return c_index\n",
    "\n",
    "c_index_value = concordance_index(r['original'], r['rounded'])\n",
    "print(\"Concordance Index:\", c_index_value)\n"
   ]
  },
  {
   "cell_type": "code",
   "execution_count": 28,
   "id": "ac8d9c07",
   "metadata": {},
   "outputs": [
    {
     "name": "stdout",
     "output_type": "stream",
     "text": [
      "0.9503680004838985\n"
     ]
    }
   ],
   "source": [
    "print(concordance_index(r['original'], r['not_rounded']))\n"
   ]
  },
  {
   "cell_type": "code",
   "execution_count": 29,
   "id": "a6dd2e0a",
   "metadata": {},
   "outputs": [
    {
     "data": {
      "image/png": "[encoded data removed]",
      "text/plain": [
       "<Figure size 720x432 with 1 Axes>"
      ]
     },
     "metadata": {},
     "output_type": "display_data"
    }
   ],
   "source": [
    "from collections import Counter\n",
    "\n",
    "\n",
    "\n",
    "def plot_frequency_comparison(list1, list2, labels=None):\n",
    "    plt.figure(figsize=(10,6))\n",
    "    plt.style.use('seaborn-whitegrid')\n",
    "    counter1 = Counter(list1)\n",
    "    counter2 = Counter(list2)\n",
    "\n",
    "    categories = sorted(set(counter1) | set(counter2))\n",
    "    values1 = [counter1[category] for category in categories]\n",
    "    values2 = [counter2[category] for category in categories]\n",
    "\n",
    "    x = range(len(categories))\n",
    "\n",
    "    plt.bar(x, values1, width=-0.4, align='edge', label='Actual Distribution', color='blue')\n",
    "    plt.bar(x, values2, width=0.4, align='edge', label='Predicted by Regression', color='orange')\n",
    "\n",
    "    plt.title('Distribution of Units Sold as Predicted by Linear Regression without Rating Counts')\n",
    "    plt.xlabel('Units Sold')\n",
    "    plt.ylabel('Frequency')\n",
    "    plt.xticks(x, labels if labels else categories)\n",
    "    plt.legend()\n",
    "    plt.show()\n",
    "\n",
    "plot_frequency_comparison(r['original'], r['rounded'])"
   ]
  },
  {
   "cell_type": "code",
   "execution_count": 30,
   "id": "e88a1d0f",
   "metadata": {},
   "outputs": [
    {
     "name": "stdout",
     "output_type": "stream",
     "text": [
      "Mutual Information: 0.7995010261890874\n"
     ]
    }
   ],
   "source": [
    "from sklearn.metrics import mutual_info_score\n",
    "\n",
    "def calculate_mutual_information(true_labels, predicted_labels):\n",
    "    mutual_info = mutual_info_score(true_labels, predicted_labels)\n",
    "    return mutual_info\n",
    "\n",
    "# Example usage:\n",
    "true_labels = [0, 1, 1, 0, 1, 0, 1]\n",
    "predicted_labels = [0, 1, 0, 0, 1, 1, 1]\n",
    "\n",
    "mutual_information = calculate_mutual_information(r['original'], r['rounded'])\n",
    "print(\"Mutual Information:\", mutual_information)"
   ]
  },
  {
   "cell_type": "markdown",
   "id": "ac29c4d6",
   "metadata": {},
   "source": [
    "# bad"
   ]
  },
  {
   "cell_type": "code",
   "execution_count": 31,
   "id": "3bb8e881",
   "metadata": {},
   "outputs": [],
   "source": [
    "r_bad = pd.read_csv(\"round_bad2.csv\")"
   ]
  },
  {
   "cell_type": "code",
   "execution_count": 32,
   "id": "9d2cd536",
   "metadata": {},
   "outputs": [
    {
     "name": "stdout",
     "output_type": "stream",
     "text": [
      "0.6410078050234712\n",
      "0.6773045125694794\n"
     ]
    }
   ],
   "source": [
    "print(concordance_index(r_bad['original'], r_bad['rounded']))\n",
    "print(concordance_index(r_bad['original'], r_bad['not_rounded']))\n"
   ]
  },
  {
   "cell_type": "code",
   "execution_count": 33,
   "id": "c7fe855b",
   "metadata": {},
   "outputs": [
    {
     "name": "stdout",
     "output_type": "stream",
     "text": [
      "Mutual Information: 0.11287073709386389\n"
     ]
    }
   ],
   "source": [
    "mutual_information = calculate_mutual_information(r_bad['original'], r_bad['rounded'])\n",
    "print(\"Mutual Information:\", mutual_information)"
   ]
  },
  {
   "cell_type": "code",
   "execution_count": 34,
   "id": "8cbcfde8",
   "metadata": {},
   "outputs": [
    {
     "data": {
      "image/png": "[encoded data removed]",
      "text/plain": [
       "<Figure size 720x432 with 1 Axes>"
      ]
     },
     "metadata": {},
     "output_type": "display_data"
    }
   ],
   "source": [
    "plot_frequency_comparison(r_bad['original'], r_bad['rounded'])"
   ]
  },
  {
   "cell_type": "code",
   "execution_count": null,
   "id": "4f26ba9b",
   "metadata": {},
   "outputs": [],
   "source": []
  }
 ],
 "metadata": {
  "kernelspec": {
   "display_name": "Python 3 (ipykernel)",
   "language": "python",
   "name": "python3"
  },
  "language_info": {
   "codemirror_mode": {
    "name": "ipython",
    "version": 3
   },
   "file_extension": ".py",
   "mimetype": "text/x-python",
   "name": "python",
   "nbconvert_exporter": "python",
   "pygments_lexer": "ipython3",
   "version": "3.9.4"
  }
 },
 "nbformat": 4,
 "nbformat_minor": 5
}
