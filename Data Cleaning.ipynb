{
 "cells": [
  {
   "cell_type": "code",
   "execution_count": 1,
   "id": "28b45245",
   "metadata": {},
   "outputs": [],
   "source": [
    "import pandas as pd"
   ]
  },
  {
   "cell_type": "code",
   "execution_count": 2,
   "id": "bcc7ad99",
   "metadata": {
    "scrolled": true
   },
   "outputs": [],
   "source": [
    "clothing = pd.read_csv('clothing.csv')"
   ]
  },
  {
   "cell_type": "code",
   "execution_count": 3,
   "id": "cd359b20",
   "metadata": {},
   "outputs": [],
   "source": [
    "clothing = clothing.drop(columns=['title',\n",
    "                                  'inventory_total',\n",
    "                                  'retail_price',\n",
    "                                  'currency_buyer',\n",
    "                                  'merchant_has_profile_picture',\n",
    "                                  'merchant_profile_picture',\n",
    "                                  'product_url',\n",
    "                                  'product_picture',\n",
    "                                  'product_id',\n",
    "                                  'crawl_month',\n",
    "                                  'theme',\n",
    "                                  'urgency_text',\n",
    "                                  'origin_country',\n",
    "                                  'merchant_title',\n",
    "                                  'merchant_name',\n",
    "                                  'merchant_info_subtitle',\n",
    "                                  'merchant_id',\n",
    "                                  'shipping_option_name',\n",
    "                                  'shipping_is_express',\n",
    "                                  'title_orig', \n",
    "                                  'tags',\n",
    "                                  'product_variation_size_id'])"
   ]
  },
  {
   "cell_type": "markdown",
   "id": "d1df622b",
   "metadata": {},
   "source": [
    "# Fill null values in binary columns with zeros"
   ]
  },
  {
   "cell_type": "code",
   "execution_count": 4,
   "id": "caeb5d6f",
   "metadata": {},
   "outputs": [
    {
     "name": "stdout",
     "output_type": "stream",
     "text": [
      "<class 'pandas.core.frame.DataFrame'>\n",
      "RangeIndex: 1573 entries, 0 to 1572\n",
      "Data columns (total 21 columns):\n",
      " #   Column                       Non-Null Count  Dtype  \n",
      "---  ------                       --------------  -----  \n",
      " 0   price                        1573 non-null   float64\n",
      " 1   units_sold                   1573 non-null   int64  \n",
      " 2   uses_ad_boosts               1573 non-null   int64  \n",
      " 3   rating                       1573 non-null   float64\n",
      " 4   rating_count                 1573 non-null   int64  \n",
      " 5   rating_five_count            1573 non-null   float64\n",
      " 6   rating_four_count            1573 non-null   float64\n",
      " 7   rating_three_count           1573 non-null   float64\n",
      " 8   rating_two_count             1573 non-null   float64\n",
      " 9   rating_one_count             1573 non-null   float64\n",
      " 10  badges_count                 1573 non-null   int64  \n",
      " 11  badge_local_product          1573 non-null   int64  \n",
      " 12  badge_product_quality        1573 non-null   int64  \n",
      " 13  badge_fast_shipping          1573 non-null   int64  \n",
      " 14  product_color                1532 non-null   object \n",
      " 15  product_variation_inventory  1573 non-null   int64  \n",
      " 16  shipping_option_price        1573 non-null   int64  \n",
      " 17  countries_shipped_to         1573 non-null   int64  \n",
      " 18  has_urgency_banner           1573 non-null   float64\n",
      " 19  merchant_rating_count        1573 non-null   int64  \n",
      " 20  merchant_rating              1573 non-null   float64\n",
      "dtypes: float64(9), int64(11), object(1)\n",
      "memory usage: 258.2+ KB\n"
     ]
    }
   ],
   "source": [
    "clothing['has_urgency_banner'].fillna(0, inplace=True)\n",
    "clothing['badge_fast_shipping'].fillna(0, inplace=True)\n",
    "clothing['rating_five_count'].fillna(0, inplace=True)\n",
    "clothing['rating_four_count'].fillna(0, inplace=True)\n",
    "clothing['rating_three_count'].fillna(0, inplace=True)\n",
    "clothing['rating_two_count'].fillna(0, inplace=True)\n",
    "clothing['rating_one_count'].fillna(0, inplace=True)\n",
    "clothing.info()"
   ]
  },
  {
   "cell_type": "markdown",
   "id": "3504d69a",
   "metadata": {},
   "source": [
    "# Make less categories for product color"
   ]
  },
  {
   "cell_type": "code",
   "execution_count": 5,
   "id": "1d4af6a8",
   "metadata": {},
   "outputs": [],
   "source": [
    "clothing['product_color'] = clothing['product_color'].str.lower()\n",
    "clothing = clothing.dropna(subset=['product_color'])"
   ]
  },
  {
   "cell_type": "code",
   "execution_count": 6,
   "id": "a5be098a",
   "metadata": {},
   "outputs": [],
   "source": [
    "def replace_substring(value, substring, replacement):\n",
    "    if substring in value:\n",
    "        return replacement\n",
    "    else:\n",
    "        return value"
   ]
  },
  {
   "cell_type": "code",
   "execution_count": 7,
   "id": "b092a2bb",
   "metadata": {},
   "outputs": [],
   "source": [
    "clothing['product_color'] = clothing['product_color'].apply(lambda x: replace_substring(x, '&', 'multicolor'))\n",
    "clothing['product_color'] = clothing['product_color'].apply(lambda x: replace_substring(x, 'floral', 'floral'))\n",
    "clothing['product_color'] = clothing['product_color'].apply(lambda x: replace_substring(x, 'red', 'red'))\n",
    "clothing['product_color'] = clothing['product_color'].apply(lambda x: replace_substring(x, 'blue', 'blue'))\n",
    "clothing['product_color'] = clothing['product_color'].apply(lambda x: replace_substring(x, 'green', 'green'))\n",
    "clothing['product_color'] = clothing['product_color'].apply(lambda x: replace_substring(x, 'white', 'white'))\n",
    "clothing['product_color'] = clothing['product_color'].apply(lambda x: replace_substring(x, 'pink', 'pink'))\n",
    "clothing['product_color'] = clothing['product_color'].apply(lambda x: replace_substring(x, 'yellow', 'yellow'))\n",
    "clothing['product_color'] = clothing['product_color'].apply(lambda x: replace_substring(x, 'black', 'black'))\n",
    "clothing['product_color'] = clothing['product_color'].apply(lambda x: replace_substring(x, 'purple', 'purple'))\n",
    "clothing['product_color'] = clothing['product_color'].apply(lambda x: replace_substring(x, 'gray', 'gray'))\n",
    "clothing['product_color'] = clothing['product_color'].apply(lambda x: replace_substring(x, 'grey', 'gray'))\n",
    "clothing['product_color'] = clothing['product_color'].apply(lambda x: replace_substring(x, 'rose', 'pink'))\n",
    "clothing['product_color'] = clothing['product_color'].apply(lambda x: replace_substring(x, 'navy', 'blue'))\n",
    "clothing['product_color'] = clothing['product_color'].apply(lambda x: replace_substring(x, 'ivory', 'white'))\n",
    "clothing['product_color'] = clothing['product_color'].apply(lambda x: replace_substring(x, 'apricot', 'orange'))\n",
    "clothing['product_color'] = clothing['product_color'].apply(lambda x: replace_substring(x, 'army', 'green'))\n",
    "clothing['product_color'] = clothing['product_color'].apply(lambda x: replace_substring(x, 'rainbow', 'multicolor'))\n",
    "clothing['product_color'] = clothing['product_color'].apply(lambda x: replace_substring(x, 'khaki', 'brown'))\n",
    "clothing['product_color'] = clothing['product_color'].apply(lambda x: replace_substring(x, 'violet', 'purple'))\n",
    "clothing['product_color'] = clothing['product_color'].apply(lambda x: replace_substring(x, 'wine', 'red'))\n",
    "clothing['product_color'] = clothing['product_color'].apply(lambda x: replace_substring(x, 'nude', 'tan'))\n",
    "clothing['product_color'] = clothing['product_color'].apply(lambda x: replace_substring(x, 'camel', 'tan'))\n",
    "clothing['product_color'] = clothing['product_color'].apply(lambda x: replace_substring(x, 'claret', 'red'))\n",
    "clothing['product_color'] = clothing['product_color'].apply(lambda x: replace_substring(x, 'gold', 'yellow'))\n",
    "clothing['product_color'] = clothing['product_color'].apply(lambda x: replace_substring(x, 'tan', 'tan'))\n",
    "clothing['product_color'] = clothing['product_color'].apply(lambda x: replace_substring(x, 'jasper', 'red'))\n",
    "clothing['product_color'] = clothing['product_color'].apply(lambda x: replace_substring(x, 'coffee', 'brown'))\n",
    "clothing['product_color'] = clothing['product_color'].apply(lambda x: replace_substring(x, 'silver', 'gray'))\n",
    "clothing['product_color'] = clothing['product_color'].apply(lambda x: replace_substring(x, 'burgundy', 'red'))\n",
    "clothing['product_color'] = clothing['product_color'].apply(lambda x: replace_substring(x, 'star', 'yellow'))\n",
    "clothing['product_color'] = clothing['product_color'].apply(lambda x: replace_substring(x, 'leopard', 'leopard'))"
   ]
  },
  {
   "cell_type": "markdown",
   "id": "6840c35f",
   "metadata": {},
   "source": [
    "# Export as a csv file"
   ]
  },
  {
   "cell_type": "code",
   "execution_count": 8,
   "id": "bf395d47",
   "metadata": {},
   "outputs": [
    {
     "name": "stdout",
     "output_type": "stream",
     "text": [
      "<class 'pandas.core.frame.DataFrame'>\n",
      "Int64Index: 1532 entries, 0 to 1572\n",
      "Data columns (total 21 columns):\n",
      " #   Column                       Non-Null Count  Dtype  \n",
      "---  ------                       --------------  -----  \n",
      " 0   price                        1532 non-null   float64\n",
      " 1   units_sold                   1532 non-null   int64  \n",
      " 2   uses_ad_boosts               1532 non-null   int64  \n",
      " 3   rating                       1532 non-null   float64\n",
      " 4   rating_count                 1532 non-null   int64  \n",
      " 5   rating_five_count            1532 non-null   float64\n",
      " 6   rating_four_count            1532 non-null   float64\n",
      " 7   rating_three_count           1532 non-null   float64\n",
      " 8   rating_two_count             1532 non-null   float64\n",
      " 9   rating_one_count             1532 non-null   float64\n",
      " 10  badges_count                 1532 non-null   int64  \n",
      " 11  badge_local_product          1532 non-null   int64  \n",
      " 12  badge_product_quality        1532 non-null   int64  \n",
      " 13  badge_fast_shipping          1532 non-null   int64  \n",
      " 14  product_color                1532 non-null   object \n",
      " 15  product_variation_inventory  1532 non-null   int64  \n",
      " 16  shipping_option_price        1532 non-null   int64  \n",
      " 17  countries_shipped_to         1532 non-null   int64  \n",
      " 18  has_urgency_banner           1532 non-null   float64\n",
      " 19  merchant_rating_count        1532 non-null   int64  \n",
      " 20  merchant_rating              1532 non-null   float64\n",
      "dtypes: float64(9), int64(11), object(1)\n",
      "memory usage: 263.3+ KB\n"
     ]
    }
   ],
   "source": [
    "clothing.info()"
   ]
  },
  {
   "cell_type": "code",
   "execution_count": 9,
   "id": "277ad2d1",
   "metadata": {},
   "outputs": [],
   "source": [
    "clothing.to_csv('clean_clothing.csv', index=False)"
   ]
  }
 ],
 "metadata": {
  "kernelspec": {
   "display_name": "Python 3 (ipykernel)",
   "language": "python",
   "name": "python3"
  },
  "language_info": {
   "codemirror_mode": {
    "name": "ipython",
    "version": 3
   },
   "file_extension": ".py",
   "mimetype": "text/x-python",
   "name": "python",
   "nbconvert_exporter": "python",
   "pygments_lexer": "ipython3",
   "version": "3.9.7"
  }
 },
 "nbformat": 4,
 "nbformat_minor": 5
}
